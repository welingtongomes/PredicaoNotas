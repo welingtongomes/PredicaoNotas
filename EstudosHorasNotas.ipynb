{
  "nbformat": 4,
  "nbformat_minor": 0,
  "metadata": {
    "colab": {
      "provenance": [],
      "include_colab_link": true
    },
    "kernelspec": {
      "name": "python3",
      "display_name": "Python 3"
    },
    "language_info": {
      "name": "python"
    }
  },
  "cells": [
    {
      "cell_type": "markdown",
      "metadata": {
        "id": "view-in-github",
        "colab_type": "text"
      },
      "source": [
        "<a href=\"https://colab.research.google.com/github/welingtongomes/PredicaoNotas/blob/main/EstudosHorasNotas.ipynb\" target=\"_parent\"><img src=\"https://colab.research.google.com/assets/colab-badge.svg\" alt=\"Open In Colab\"/></a>"
      ]
    },
    {
      "cell_type": "code",
      "execution_count": null,
      "metadata": {
        "id": "Z5VxrbuKmyEt"
      },
      "outputs": [],
      "source": [
        "import pandas as pd\n",
        "import matplotlib.pyplot as plt\n",
        "import seaborn as sns\n",
        "from sklearn.model_selection import train_test_split\n",
        "from sklearn.linear_model import LinearRegression\n",
        "from sklearn.metrics import mean_absolute_error\n",
        "from sklearn.metrics import mean_squared_error"
      ]
    },
    {
      "cell_type": "code",
      "source": [
        "dados = pd.read_csv('/content/horas_estudo.csv', sep=';', decimal=',')"
      ],
      "metadata": {
        "id": "xI3vofCWrXrr"
      },
      "execution_count": null,
      "outputs": []
    },
    {
      "cell_type": "code",
      "source": [
        "dados.info()"
      ],
      "metadata": {
        "colab": {
          "base_uri": "https://localhost:8080/"
        },
        "id": "Os_JZRoCnAf8",
        "outputId": "33aadbfb-6a81-433e-c649-426d3fc28e47"
      },
      "execution_count": null,
      "outputs": [
        {
          "output_type": "stream",
          "name": "stdout",
          "text": [
            "<class 'pandas.core.frame.DataFrame'>\n",
            "RangeIndex: 100 entries, 0 to 99\n",
            "Data columns (total 2 columns):\n",
            " #   Column          Non-Null Count  Dtype  \n",
            "---  ------          --------------  -----  \n",
            " 0   horas_estudo    100 non-null    float64\n",
            " 1   nota_avaliacao  100 non-null    float64\n",
            "dtypes: float64(2)\n",
            "memory usage: 1.7 KB\n"
          ]
        }
      ]
    },
    {
      "cell_type": "code",
      "source": [
        "dados.head()"
      ],
      "metadata": {
        "colab": {
          "base_uri": "https://localhost:8080/",
          "height": 206
        },
        "id": "GnRQ-jLSnruh",
        "outputId": "5d47c2c9-c5c1-4bd8-cfea-1d23b28ca869"
      },
      "execution_count": null,
      "outputs": [
        {
          "output_type": "execute_result",
          "data": {
            "text/plain": [
              "   horas_estudo  nota_avaliacao\n",
              "0         16.07           40.05\n",
              "1         20.41           66.49\n",
              "2         34.29           91.50\n",
              "3         34.10           87.09\n",
              "4         32.34           69.30"
            ],
            "text/html": [
              "\n",
              "\n",
              "  <div id=\"df-0042762d-fc6a-414c-bdcc-1a579833a4b0\">\n",
              "    <div class=\"colab-df-container\">\n",
              "      <div>\n",
              "<style scoped>\n",
              "    .dataframe tbody tr th:only-of-type {\n",
              "        vertical-align: middle;\n",
              "    }\n",
              "\n",
              "    .dataframe tbody tr th {\n",
              "        vertical-align: top;\n",
              "    }\n",
              "\n",
              "    .dataframe thead th {\n",
              "        text-align: right;\n",
              "    }\n",
              "</style>\n",
              "<table border=\"1\" class=\"dataframe\">\n",
              "  <thead>\n",
              "    <tr style=\"text-align: right;\">\n",
              "      <th></th>\n",
              "      <th>horas_estudo</th>\n",
              "      <th>nota_avaliacao</th>\n",
              "    </tr>\n",
              "  </thead>\n",
              "  <tbody>\n",
              "    <tr>\n",
              "      <th>0</th>\n",
              "      <td>16.07</td>\n",
              "      <td>40.05</td>\n",
              "    </tr>\n",
              "    <tr>\n",
              "      <th>1</th>\n",
              "      <td>20.41</td>\n",
              "      <td>66.49</td>\n",
              "    </tr>\n",
              "    <tr>\n",
              "      <th>2</th>\n",
              "      <td>34.29</td>\n",
              "      <td>91.50</td>\n",
              "    </tr>\n",
              "    <tr>\n",
              "      <th>3</th>\n",
              "      <td>34.10</td>\n",
              "      <td>87.09</td>\n",
              "    </tr>\n",
              "    <tr>\n",
              "      <th>4</th>\n",
              "      <td>32.34</td>\n",
              "      <td>69.30</td>\n",
              "    </tr>\n",
              "  </tbody>\n",
              "</table>\n",
              "</div>\n",
              "      <button class=\"colab-df-convert\" onclick=\"convertToInteractive('df-0042762d-fc6a-414c-bdcc-1a579833a4b0')\"\n",
              "              title=\"Convert this dataframe to an interactive table.\"\n",
              "              style=\"display:none;\">\n",
              "\n",
              "  <svg xmlns=\"http://www.w3.org/2000/svg\" height=\"24px\"viewBox=\"0 0 24 24\"\n",
              "       width=\"24px\">\n",
              "    <path d=\"M0 0h24v24H0V0z\" fill=\"none\"/>\n",
              "    <path d=\"M18.56 5.44l.94 2.06.94-2.06 2.06-.94-2.06-.94-.94-2.06-.94 2.06-2.06.94zm-11 1L8.5 8.5l.94-2.06 2.06-.94-2.06-.94L8.5 2.5l-.94 2.06-2.06.94zm10 10l.94 2.06.94-2.06 2.06-.94-2.06-.94-.94-2.06-.94 2.06-2.06.94z\"/><path d=\"M17.41 7.96l-1.37-1.37c-.4-.4-.92-.59-1.43-.59-.52 0-1.04.2-1.43.59L10.3 9.45l-7.72 7.72c-.78.78-.78 2.05 0 2.83L4 21.41c.39.39.9.59 1.41.59.51 0 1.02-.2 1.41-.59l7.78-7.78 2.81-2.81c.8-.78.8-2.07 0-2.86zM5.41 20L4 18.59l7.72-7.72 1.47 1.35L5.41 20z\"/>\n",
              "  </svg>\n",
              "      </button>\n",
              "\n",
              "\n",
              "\n",
              "    <div id=\"df-4078b02d-7992-4326-a51a-62f04f87210d\">\n",
              "      <button class=\"colab-df-quickchart\" onclick=\"quickchart('df-4078b02d-7992-4326-a51a-62f04f87210d')\"\n",
              "              title=\"Suggest charts.\"\n",
              "              style=\"display:none;\">\n",
              "\n",
              "<svg xmlns=\"http://www.w3.org/2000/svg\" height=\"24px\"viewBox=\"0 0 24 24\"\n",
              "     width=\"24px\">\n",
              "    <g>\n",
              "        <path d=\"M19 3H5c-1.1 0-2 .9-2 2v14c0 1.1.9 2 2 2h14c1.1 0 2-.9 2-2V5c0-1.1-.9-2-2-2zM9 17H7v-7h2v7zm4 0h-2V7h2v10zm4 0h-2v-4h2v4z\"/>\n",
              "    </g>\n",
              "</svg>\n",
              "      </button>\n",
              "    </div>\n",
              "\n",
              "<style>\n",
              "  .colab-df-quickchart {\n",
              "    background-color: #E8F0FE;\n",
              "    border: none;\n",
              "    border-radius: 50%;\n",
              "    cursor: pointer;\n",
              "    display: none;\n",
              "    fill: #1967D2;\n",
              "    height: 32px;\n",
              "    padding: 0 0 0 0;\n",
              "    width: 32px;\n",
              "  }\n",
              "\n",
              "  .colab-df-quickchart:hover {\n",
              "    background-color: #E2EBFA;\n",
              "    box-shadow: 0px 1px 2px rgba(60, 64, 67, 0.3), 0px 1px 3px 1px rgba(60, 64, 67, 0.15);\n",
              "    fill: #174EA6;\n",
              "  }\n",
              "\n",
              "  [theme=dark] .colab-df-quickchart {\n",
              "    background-color: #3B4455;\n",
              "    fill: #D2E3FC;\n",
              "  }\n",
              "\n",
              "  [theme=dark] .colab-df-quickchart:hover {\n",
              "    background-color: #434B5C;\n",
              "    box-shadow: 0px 1px 3px 1px rgba(0, 0, 0, 0.15);\n",
              "    filter: drop-shadow(0px 1px 2px rgba(0, 0, 0, 0.3));\n",
              "    fill: #FFFFFF;\n",
              "  }\n",
              "</style>\n",
              "\n",
              "    <script>\n",
              "      async function quickchart(key) {\n",
              "        const containerElement = document.querySelector('#' + key);\n",
              "        const charts = await google.colab.kernel.invokeFunction(\n",
              "            'suggestCharts', [key], {});\n",
              "      }\n",
              "    </script>\n",
              "\n",
              "      <script>\n",
              "\n",
              "function displayQuickchartButton(domScope) {\n",
              "  let quickchartButtonEl =\n",
              "    domScope.querySelector('#df-4078b02d-7992-4326-a51a-62f04f87210d button.colab-df-quickchart');\n",
              "  quickchartButtonEl.style.display =\n",
              "    google.colab.kernel.accessAllowed ? 'block' : 'none';\n",
              "}\n",
              "\n",
              "        displayQuickchartButton(document);\n",
              "      </script>\n",
              "      <style>\n",
              "    .colab-df-container {\n",
              "      display:flex;\n",
              "      flex-wrap:wrap;\n",
              "      gap: 12px;\n",
              "    }\n",
              "\n",
              "    .colab-df-convert {\n",
              "      background-color: #E8F0FE;\n",
              "      border: none;\n",
              "      border-radius: 50%;\n",
              "      cursor: pointer;\n",
              "      display: none;\n",
              "      fill: #1967D2;\n",
              "      height: 32px;\n",
              "      padding: 0 0 0 0;\n",
              "      width: 32px;\n",
              "    }\n",
              "\n",
              "    .colab-df-convert:hover {\n",
              "      background-color: #E2EBFA;\n",
              "      box-shadow: 0px 1px 2px rgba(60, 64, 67, 0.3), 0px 1px 3px 1px rgba(60, 64, 67, 0.15);\n",
              "      fill: #174EA6;\n",
              "    }\n",
              "\n",
              "    [theme=dark] .colab-df-convert {\n",
              "      background-color: #3B4455;\n",
              "      fill: #D2E3FC;\n",
              "    }\n",
              "\n",
              "    [theme=dark] .colab-df-convert:hover {\n",
              "      background-color: #434B5C;\n",
              "      box-shadow: 0px 1px 3px 1px rgba(0, 0, 0, 0.15);\n",
              "      filter: drop-shadow(0px 1px 2px rgba(0, 0, 0, 0.3));\n",
              "      fill: #FFFFFF;\n",
              "    }\n",
              "  </style>\n",
              "\n",
              "      <script>\n",
              "        const buttonEl =\n",
              "          document.querySelector('#df-0042762d-fc6a-414c-bdcc-1a579833a4b0 button.colab-df-convert');\n",
              "        buttonEl.style.display =\n",
              "          google.colab.kernel.accessAllowed ? 'block' : 'none';\n",
              "\n",
              "        async function convertToInteractive(key) {\n",
              "          const element = document.querySelector('#df-0042762d-fc6a-414c-bdcc-1a579833a4b0');\n",
              "          const dataTable =\n",
              "            await google.colab.kernel.invokeFunction('convertToInteractive',\n",
              "                                                     [key], {});\n",
              "          if (!dataTable) return;\n",
              "\n",
              "          const docLinkHtml = 'Like what you see? Visit the ' +\n",
              "            '<a target=\"_blank\" href=https://colab.research.google.com/notebooks/data_table.ipynb>data table notebook</a>'\n",
              "            + ' to learn more about interactive tables.';\n",
              "          element.innerHTML = '';\n",
              "          dataTable['output_type'] = 'display_data';\n",
              "          await google.colab.output.renderOutput(dataTable, element);\n",
              "          const docLink = document.createElement('div');\n",
              "          docLink.innerHTML = docLinkHtml;\n",
              "          element.appendChild(docLink);\n",
              "        }\n",
              "      </script>\n",
              "    </div>\n",
              "  </div>\n"
            ]
          },
          "metadata": {},
          "execution_count": 130
        }
      ]
    },
    {
      "cell_type": "code",
      "source": [
        "valores_nulos = dados.isnull().sum()\n",
        "print(valores_nulos)"
      ],
      "metadata": {
        "colab": {
          "base_uri": "https://localhost:8080/"
        },
        "id": "88Xei2fznJG1",
        "outputId": "7e3ef9a1-4d28-4a4e-e860-f32d6825780b"
      },
      "execution_count": null,
      "outputs": [
        {
          "output_type": "stream",
          "name": "stdout",
          "text": [
            "horas_estudo      0\n",
            "nota_avaliacao    0\n",
            "dtype: int64\n"
          ]
        }
      ]
    },
    {
      "cell_type": "code",
      "source": [
        "matriz_correlacao = dados.corr()"
      ],
      "metadata": {
        "id": "cD-_1QhtoZZ8"
      },
      "execution_count": null,
      "outputs": []
    },
    {
      "cell_type": "code",
      "source": [
        "print(matriz_correlacao)"
      ],
      "metadata": {
        "colab": {
          "base_uri": "https://localhost:8080/"
        },
        "id": "oS7xx1OFqPp5",
        "outputId": "b57ade3e-ba00-4032-a7e1-d0eb5036402c"
      },
      "execution_count": null,
      "outputs": [
        {
          "output_type": "stream",
          "name": "stdout",
          "text": [
            "                horas_estudo  nota_avaliacao\n",
            "horas_estudo        1.000000        0.659759\n",
            "nota_avaliacao      0.659759        1.000000\n"
          ]
        }
      ]
    },
    {
      "cell_type": "code",
      "source": [
        "# Crie o gráfico de heatmap\n",
        "plt.figure(figsize=(6, 4))  # Tamanho da figura\n",
        "sns.heatmap(matriz_correlacao, annot=True, cmap='coolwarm_r', fmt='.2f', linewidths=0.5)\n",
        "plt.title('Gráfico de Correlação')\n",
        "plt.show()"
      ],
      "metadata": {
        "colab": {
          "base_uri": "https://localhost:8080/",
          "height": 391
        },
        "id": "GUYsP-pSpqq4",
        "outputId": "50ffd9ad-d40f-4386-da56-a5c54fb884f2"
      },
      "execution_count": null,
      "outputs": [
        {
          "output_type": "display_data",
          "data": {
            "text/plain": [
              "<Figure size 600x400 with 2 Axes>"
            ],
            "image/png": "[encoded data removed]"
          },
          "metadata": {}
        }
      ]
    },
    {
      "cell_type": "code",
      "source": [
        "# Defina as variáveis independentes (características)\n",
        "X = dados[['horas_estudo']]\n",
        "\n",
        "# Defina a variável dependente (alvo)\n",
        "y = dados['nota_avaliacao']\n",
        "\n",
        "# Divida os dados em conjuntos de treinamento e teste\n",
        "X_train, X_test, y_train, y_test = train_test_split(X, y, test_size=0.2, random_state=42)\n",
        "\n",
        "# Crie o modelo de regressão linear\n",
        "modelo = LinearRegression()\n",
        "\n",
        "# Treine o modelo com os dados de treinamento\n",
        "modelo.fit(X_train, y_train)\n",
        "\n",
        "# Faça previsões com os dados de teste\n",
        "y_pred = modelo.predict(X_test)\n",
        "\n",
        "# Avalie o desempenho do modelo (opcional)\n",
        "score = modelo.score(X_test, y_test)\n",
        "print(f\"Coeficiente de determinação (R²): {score:.2f}\")\n",
        "\n",
        "# Plote o gráfico de dispersão dos dados de treinamento e a linha de regressão\n",
        "plt.scatter(X_train, y_train, color='blue', label='Dados de Treinamento')\n",
        "plt.scatter(X_test, y_test, color='green', label='Dados de Teste')\n",
        "plt.plot(X_test, y_pred, color='red', linewidth=2, label='Regressão Linear')\n",
        "plt.xlabel('Horas de Estudo')\n",
        "plt.ylabel('Nota de Avaliação')\n",
        "plt.legend()\n",
        "plt.show()\n",
        "\n",
        "\n",
        "\n",
        "# Acesse o valor do intercepto (coeficiente linear)\n",
        "intercepto = modelo.intercept_\n",
        "\n",
        "print(f\"O valor do intercepto é: {intercepto}\\n\")\n",
        "\n",
        "# Acesse os coeficientes angulares\n",
        "coef_angular = modelo.coef_\n",
        "\n",
        "print(f\"O valor do coeficiente angular é: {coef_angular[0]}\\n\")\n",
        "\n",
        "# Realize a previsão com base nas 3 horas de estudo\n",
        "horas_estudo_aluno = 3\n",
        "nota_predita = modelo.predict([[horas_estudo_aluno]])\n",
        "\n",
        "print(f\"A nota predita na prova para um aluno que estudou 3 horas é: {nota_predita[0]}\\n\")\n",
        "\n",
        "\n",
        "# Realize a previsão com base nas 18,06 horas de estudo\n",
        "horas_estudo_aluno = 18.06\n",
        "nota_predita = modelo.predict([[horas_estudo_aluno]])\n",
        "\n",
        "# Obtenha a nota real do aluno (você precisa substituir esse valor pelo valor real)\n",
        "nota_real_aluno = 62.32\n",
        "\n",
        "# Calcule a diferença\n",
        "diferenca = nota_predita[0] - nota_real_aluno\n",
        "\n",
        "print(f\"A diferença entre a nota predita e a nota real do aluno que estudou 18,06 horas é: {diferenca}\\n\")\n",
        "\n",
        "\n",
        "# Realize a previsão com base nas 30 horas de estudo\n",
        "horas_estudo_aluno = 30\n",
        "nota_predita = modelo.predict([[horas_estudo_aluno]])\n",
        "\n",
        "print(f\"A nota predita na prova para um aluno que estudou 30 horas é: {nota_predita[0]}\\n\")\n",
        "\n",
        "# Calcule o MAE\n",
        "mae = mean_absolute_error(y_test, y_pred)\n",
        "\n",
        "print(f\"O Mean Absolute Error (MAE) do modelo de regressão linear é: {mae}\\n\")\n",
        "\n",
        "# Calcule o MAE\n",
        "mae = mean_squared_error(y_test, y_pred)\n",
        "\n",
        "print(f\"O Mean Squared Error (MSE) do modelo de regressão linear é: {mae}\\n\")\n",
        "\n",
        "\n",
        "\n",
        "\n",
        "\n",
        "\n",
        "\n",
        "\n"
      ],
      "metadata": {
        "colab": {
          "base_uri": "https://localhost:8080/",
          "height": 834
        },
        "id": "E4Iy4D1rrA5h",
        "outputId": "92191c57-b1e1-45cf-bc92-da0c19a5cf64"
      },
      "execution_count": null,
      "outputs": [
        {
          "output_type": "stream",
          "name": "stdout",
          "text": [
            "Coeficiente de determinação (R²): 0.58\n"
          ]
        },
        {
          "output_type": "display_data",
          "data": {
            "text/plain": [
              "<Figure size 640x480 with 1 Axes>"
            ],
            "image/png": "[encoded data removed]"
          },
          "metadata": {}
        },
        {
          "output_type": "stream",
          "name": "stdout",
          "text": [
            "O valor do intercepto é: 37.72433032159134\n",
            "\n",
            "O valor do coeficiente angular é: 1.3090905320121726\n",
            "\n",
            "A nota predita na prova para um aluno que estudou 3 horas é: 41.65160191762786\n",
            "\n",
            "A diferença entre a nota predita e a nota real do aluno que estudou 18,06 horas é: -0.9534946702688245\n",
            "\n",
            "A nota predita na prova para um aluno que estudou 30 horas é: 76.99704628195651\n",
            "\n",
            "O Mean Absolute Error (MAE) do modelo de regressão linear é: 12.56343376840537\n",
            "\n",
            "O Mean Squared Error (MSE) do modelo de regressão linear é: 199.32650976618913\n",
            "\n"
          ]
        },
        {
          "output_type": "stream",
          "name": "stderr",
          "text": [
            "/usr/local/lib/python3.10/dist-packages/sklearn/base.py:439: UserWarning: X does not have valid feature names, but LinearRegression was fitted with feature names\n",
            "  warnings.warn(\n",
            "/usr/local/lib/python3.10/dist-packages/sklearn/base.py:439: UserWarning: X does not have valid feature names, but LinearRegression was fitted with feature names\n",
            "  warnings.warn(\n",
            "/usr/local/lib/python3.10/dist-packages/sklearn/base.py:439: UserWarning: X does not have valid feature names, but LinearRegression was fitted with feature names\n",
            "  warnings.warn(\n"
          ]
        }
      ]
    },
    {
      "cell_type": "code",
      "source": [
        "dados['horas_estudo'].mean()"
      ],
      "metadata": {
        "colab": {
          "base_uri": "https://localhost:8080/"
        },
        "id": "4TkzhdeesIPT",
        "outputId": "c9d3a69c-a6b6-4d96-8efe-a632f2b1488d"
      },
      "execution_count": null,
      "outputs": [
        {
          "output_type": "execute_result",
          "data": {
            "text/plain": [
              "20.766000000000005"
            ]
          },
          "metadata": {},
          "execution_count": 136
        }
      ]
    },
    {
      "cell_type": "code",
      "source": [
        "dados['nota_avaliacao'].mean()"
      ],
      "metadata": {
        "colab": {
          "base_uri": "https://localhost:8080/"
        },
        "id": "i6hGwWGqsOLZ",
        "outputId": "3717b388-e09a-41f3-e823-22a1014f5f18"
      },
      "execution_count": null,
      "outputs": [
        {
          "output_type": "execute_result",
          "data": {
            "text/plain": [
              "64.2226"
            ]
          },
          "metadata": {},
          "execution_count": 137
        }
      ]
    }
  ]
}